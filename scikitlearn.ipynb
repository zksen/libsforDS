{
 "cells": [
  {
   "cell_type": "markdown",
   "metadata": {},
   "source": [
    "#### Задание 1\n",
    "\n",
    "Импортируйте библиотеки pandas и numpy.\n",
    "\n",
    "Загрузите \"Boston House Prices dataset\" из встроенных наборов данных библиотеки sklearn. Создайте датафреймы X и y из этих данных.\n",
    "\n",
    "Разбейте эти датафреймы на тренировочные (X_train, y_train) и тестовые (X_test, y_test) с помощью функции train_test_split так, чтобы размер тестовой выборки\n",
    "составлял 30% от всех данных, при этом аргумент random_state должен быть равен 42.\n",
    "\n",
    "Создайте модель линейной регрессии под названием lr с помощью класса LinearRegression из модуля sklearn.linear_model.\n",
    "Обучите модель на тренировочных данных (используйте все признаки) и сделайте предсказание на тестовых.\n",
    "\n",
    "Вычислите R2 полученных предказаний с помощью r2_score из модуля sklearn.metrics."
   ]
  },
  {
   "cell_type": "code",
   "execution_count": 1,
   "metadata": {},
   "outputs": [],
   "source": [
    "import pandas as pd\n",
    "import numpy as np"
   ]
  },
  {
   "cell_type": "code",
   "execution_count": 2,
   "metadata": {},
   "outputs": [],
   "source": [
    "from sklearn.datasets import load_boston"
   ]
  },
  {
   "cell_type": "code",
   "execution_count": 3,
   "metadata": {},
   "outputs": [],
   "source": [
    "boston = load_boston()"
   ]
  },
  {
   "cell_type": "code",
   "execution_count": 4,
   "metadata": {},
   "outputs": [
    {
     "data": {
      "text/plain": [
       "dict_keys(['data', 'target', 'feature_names', 'DESCR', 'filename'])"
      ]
     },
     "execution_count": 4,
     "metadata": {},
     "output_type": "execute_result"
    }
   ],
   "source": [
    "boston.keys()"
   ]
  },
  {
   "cell_type": "code",
   "execution_count": 5,
   "metadata": {},
   "outputs": [],
   "source": [
    "data = boston.data"
   ]
  },
  {
   "cell_type": "code",
   "execution_count": 6,
   "metadata": {},
   "outputs": [
    {
     "data": {
      "text/plain": [
       "(506, 13)"
      ]
     },
     "execution_count": 6,
     "metadata": {},
     "output_type": "execute_result"
    }
   ],
   "source": [
    "data.shape"
   ]
  },
  {
   "cell_type": "code",
   "execution_count": 7,
   "metadata": {},
   "outputs": [
    {
     "data": {
      "text/plain": [
       "array([[6.3200e-03, 1.8000e+01, 2.3100e+00, ..., 1.5300e+01, 3.9690e+02,\n",
       "        4.9800e+00],\n",
       "       [2.7310e-02, 0.0000e+00, 7.0700e+00, ..., 1.7800e+01, 3.9690e+02,\n",
       "        9.1400e+00],\n",
       "       [2.7290e-02, 0.0000e+00, 7.0700e+00, ..., 1.7800e+01, 3.9283e+02,\n",
       "        4.0300e+00],\n",
       "       ...,\n",
       "       [6.0760e-02, 0.0000e+00, 1.1930e+01, ..., 2.1000e+01, 3.9690e+02,\n",
       "        5.6400e+00],\n",
       "       [1.0959e-01, 0.0000e+00, 1.1930e+01, ..., 2.1000e+01, 3.9345e+02,\n",
       "        6.4800e+00],\n",
       "       [4.7410e-02, 0.0000e+00, 1.1930e+01, ..., 2.1000e+01, 3.9690e+02,\n",
       "        7.8800e+00]])"
      ]
     },
     "execution_count": 7,
     "metadata": {},
     "output_type": "execute_result"
    }
   ],
   "source": [
    "data"
   ]
  },
  {
   "cell_type": "code",
   "execution_count": 8,
   "metadata": {},
   "outputs": [],
   "source": [
    "target = boston.target"
   ]
  },
  {
   "cell_type": "code",
   "execution_count": 9,
   "metadata": {},
   "outputs": [],
   "source": [
    "feature_names = boston.feature_names"
   ]
  },
  {
   "cell_type": "code",
   "execution_count": 10,
   "metadata": {},
   "outputs": [
    {
     "data": {
      "text/plain": [
       "array(['CRIM', 'ZN', 'INDUS', 'CHAS', 'NOX', 'RM', 'AGE', 'DIS', 'RAD',\n",
       "       'TAX', 'PTRATIO', 'B', 'LSTAT'], dtype='<U7')"
      ]
     },
     "execution_count": 10,
     "metadata": {},
     "output_type": "execute_result"
    }
   ],
   "source": [
    "feature_names"
   ]
  },
  {
   "cell_type": "code",
   "execution_count": 11,
   "metadata": {},
   "outputs": [],
   "source": [
    "X = pd.DataFrame(data, columns=feature_names)"
   ]
  },
  {
   "cell_type": "code",
   "execution_count": 12,
   "metadata": {},
   "outputs": [
    {
     "data": {
      "text/html": [
       "<div>\n",
       "<style scoped>\n",
       "    .dataframe tbody tr th:only-of-type {\n",
       "        vertical-align: middle;\n",
       "    }\n",
       "\n",
       "    .dataframe tbody tr th {\n",
       "        vertical-align: top;\n",
       "    }\n",
       "\n",
       "    .dataframe thead th {\n",
       "        text-align: right;\n",
       "    }\n",
       "</style>\n",
       "<table border=\"1\" class=\"dataframe\">\n",
       "  <thead>\n",
       "    <tr style=\"text-align: right;\">\n",
       "      <th></th>\n",
       "      <th>CRIM</th>\n",
       "      <th>ZN</th>\n",
       "      <th>INDUS</th>\n",
       "      <th>CHAS</th>\n",
       "      <th>NOX</th>\n",
       "      <th>RM</th>\n",
       "      <th>AGE</th>\n",
       "      <th>DIS</th>\n",
       "      <th>RAD</th>\n",
       "      <th>TAX</th>\n",
       "      <th>PTRATIO</th>\n",
       "      <th>B</th>\n",
       "      <th>LSTAT</th>\n",
       "    </tr>\n",
       "  </thead>\n",
       "  <tbody>\n",
       "    <tr>\n",
       "      <th>471</th>\n",
       "      <td>4.03841</td>\n",
       "      <td>0.0</td>\n",
       "      <td>18.10</td>\n",
       "      <td>0.0</td>\n",
       "      <td>0.532</td>\n",
       "      <td>6.229</td>\n",
       "      <td>90.7</td>\n",
       "      <td>3.0993</td>\n",
       "      <td>24.0</td>\n",
       "      <td>666.0</td>\n",
       "      <td>20.2</td>\n",
       "      <td>395.33</td>\n",
       "      <td>12.87</td>\n",
       "    </tr>\n",
       "    <tr>\n",
       "      <th>225</th>\n",
       "      <td>0.52693</td>\n",
       "      <td>0.0</td>\n",
       "      <td>6.20</td>\n",
       "      <td>0.0</td>\n",
       "      <td>0.504</td>\n",
       "      <td>8.725</td>\n",
       "      <td>83.0</td>\n",
       "      <td>2.8944</td>\n",
       "      <td>8.0</td>\n",
       "      <td>307.0</td>\n",
       "      <td>17.4</td>\n",
       "      <td>382.00</td>\n",
       "      <td>4.63</td>\n",
       "    </tr>\n",
       "    <tr>\n",
       "      <th>170</th>\n",
       "      <td>1.20742</td>\n",
       "      <td>0.0</td>\n",
       "      <td>19.58</td>\n",
       "      <td>0.0</td>\n",
       "      <td>0.605</td>\n",
       "      <td>5.875</td>\n",
       "      <td>94.6</td>\n",
       "      <td>2.4259</td>\n",
       "      <td>5.0</td>\n",
       "      <td>403.0</td>\n",
       "      <td>14.7</td>\n",
       "      <td>292.29</td>\n",
       "      <td>14.43</td>\n",
       "    </tr>\n",
       "    <tr>\n",
       "      <th>421</th>\n",
       "      <td>7.02259</td>\n",
       "      <td>0.0</td>\n",
       "      <td>18.10</td>\n",
       "      <td>0.0</td>\n",
       "      <td>0.718</td>\n",
       "      <td>6.006</td>\n",
       "      <td>95.3</td>\n",
       "      <td>1.8746</td>\n",
       "      <td>24.0</td>\n",
       "      <td>666.0</td>\n",
       "      <td>20.2</td>\n",
       "      <td>319.98</td>\n",
       "      <td>15.70</td>\n",
       "    </tr>\n",
       "    <tr>\n",
       "      <th>4</th>\n",
       "      <td>0.06905</td>\n",
       "      <td>0.0</td>\n",
       "      <td>2.18</td>\n",
       "      <td>0.0</td>\n",
       "      <td>0.458</td>\n",
       "      <td>7.147</td>\n",
       "      <td>54.2</td>\n",
       "      <td>6.0622</td>\n",
       "      <td>3.0</td>\n",
       "      <td>222.0</td>\n",
       "      <td>18.7</td>\n",
       "      <td>396.90</td>\n",
       "      <td>5.33</td>\n",
       "    </tr>\n",
       "  </tbody>\n",
       "</table>\n",
       "</div>"
      ],
      "text/plain": [
       "        CRIM   ZN  INDUS  CHAS    NOX     RM   AGE     DIS   RAD    TAX  \\\n",
       "471  4.03841  0.0  18.10   0.0  0.532  6.229  90.7  3.0993  24.0  666.0   \n",
       "225  0.52693  0.0   6.20   0.0  0.504  8.725  83.0  2.8944   8.0  307.0   \n",
       "170  1.20742  0.0  19.58   0.0  0.605  5.875  94.6  2.4259   5.0  403.0   \n",
       "421  7.02259  0.0  18.10   0.0  0.718  6.006  95.3  1.8746  24.0  666.0   \n",
       "4    0.06905  0.0   2.18   0.0  0.458  7.147  54.2  6.0622   3.0  222.0   \n",
       "\n",
       "     PTRATIO       B  LSTAT  \n",
       "471     20.2  395.33  12.87  \n",
       "225     17.4  382.00   4.63  \n",
       "170     14.7  292.29  14.43  \n",
       "421     20.2  319.98  15.70  \n",
       "4       18.7  396.90   5.33  "
      ]
     },
     "execution_count": 12,
     "metadata": {},
     "output_type": "execute_result"
    }
   ],
   "source": [
    "X.sample(5)"
   ]
  },
  {
   "cell_type": "code",
   "execution_count": 13,
   "metadata": {},
   "outputs": [
    {
     "data": {
      "text/plain": [
       "(506, 13)"
      ]
     },
     "execution_count": 13,
     "metadata": {},
     "output_type": "execute_result"
    }
   ],
   "source": [
    "X.shape"
   ]
  },
  {
   "cell_type": "code",
   "execution_count": 14,
   "metadata": {},
   "outputs": [
    {
     "name": "stdout",
     "output_type": "stream",
     "text": [
      "<class 'pandas.core.frame.DataFrame'>\n",
      "RangeIndex: 506 entries, 0 to 505\n",
      "Data columns (total 13 columns):\n",
      " #   Column   Non-Null Count  Dtype  \n",
      "---  ------   --------------  -----  \n",
      " 0   CRIM     506 non-null    float64\n",
      " 1   ZN       506 non-null    float64\n",
      " 2   INDUS    506 non-null    float64\n",
      " 3   CHAS     506 non-null    float64\n",
      " 4   NOX      506 non-null    float64\n",
      " 5   RM       506 non-null    float64\n",
      " 6   AGE      506 non-null    float64\n",
      " 7   DIS      506 non-null    float64\n",
      " 8   RAD      506 non-null    float64\n",
      " 9   TAX      506 non-null    float64\n",
      " 10  PTRATIO  506 non-null    float64\n",
      " 11  B        506 non-null    float64\n",
      " 12  LSTAT    506 non-null    float64\n",
      "dtypes: float64(13)\n",
      "memory usage: 51.5 KB\n"
     ]
    }
   ],
   "source": [
    "X.info()"
   ]
  },
  {
   "cell_type": "code",
   "execution_count": 15,
   "metadata": {},
   "outputs": [],
   "source": [
    "y = pd.DataFrame(target, columns=['price'])"
   ]
  },
  {
   "cell_type": "code",
   "execution_count": 16,
   "metadata": {},
   "outputs": [
    {
     "data": {
      "text/html": [
       "<div>\n",
       "<style scoped>\n",
       "    .dataframe tbody tr th:only-of-type {\n",
       "        vertical-align: middle;\n",
       "    }\n",
       "\n",
       "    .dataframe tbody tr th {\n",
       "        vertical-align: top;\n",
       "    }\n",
       "\n",
       "    .dataframe thead th {\n",
       "        text-align: right;\n",
       "    }\n",
       "</style>\n",
       "<table border=\"1\" class=\"dataframe\">\n",
       "  <thead>\n",
       "    <tr style=\"text-align: right;\">\n",
       "      <th></th>\n",
       "      <th>price</th>\n",
       "    </tr>\n",
       "  </thead>\n",
       "  <tbody>\n",
       "    <tr>\n",
       "      <th>296</th>\n",
       "      <td>27.1</td>\n",
       "    </tr>\n",
       "    <tr>\n",
       "      <th>134</th>\n",
       "      <td>15.6</td>\n",
       "    </tr>\n",
       "    <tr>\n",
       "      <th>175</th>\n",
       "      <td>29.4</td>\n",
       "    </tr>\n",
       "    <tr>\n",
       "      <th>399</th>\n",
       "      <td>6.3</td>\n",
       "    </tr>\n",
       "    <tr>\n",
       "      <th>80</th>\n",
       "      <td>28.0</td>\n",
       "    </tr>\n",
       "  </tbody>\n",
       "</table>\n",
       "</div>"
      ],
      "text/plain": [
       "     price\n",
       "296   27.1\n",
       "134   15.6\n",
       "175   29.4\n",
       "399    6.3\n",
       "80    28.0"
      ]
     },
     "execution_count": 16,
     "metadata": {},
     "output_type": "execute_result"
    }
   ],
   "source": [
    "y.sample(5)"
   ]
  },
  {
   "cell_type": "code",
   "execution_count": 17,
   "metadata": {},
   "outputs": [
    {
     "name": "stdout",
     "output_type": "stream",
     "text": [
      "<class 'pandas.core.frame.DataFrame'>\n",
      "RangeIndex: 506 entries, 0 to 505\n",
      "Data columns (total 1 columns):\n",
      " #   Column  Non-Null Count  Dtype  \n",
      "---  ------  --------------  -----  \n",
      " 0   price   506 non-null    float64\n",
      "dtypes: float64(1)\n",
      "memory usage: 4.1 KB\n"
     ]
    }
   ],
   "source": [
    "y.info()"
   ]
  },
  {
   "cell_type": "markdown",
   "metadata": {},
   "source": [
    "#### Разбиение данных на тренировочные и тестовые датасеты"
   ]
  },
  {
   "cell_type": "code",
   "execution_count": 18,
   "metadata": {},
   "outputs": [],
   "source": [
    "from sklearn.model_selection import train_test_split"
   ]
  },
  {
   "cell_type": "code",
   "execution_count": 19,
   "metadata": {},
   "outputs": [],
   "source": [
    "X_train, X_test, y_train, y_test = train_test_split(X, y, test_size=0.30, random_state=42)"
   ]
  },
  {
   "cell_type": "markdown",
   "metadata": {},
   "source": [
    "#### Построение модели линейной регрессии"
   ]
  },
  {
   "cell_type": "code",
   "execution_count": 20,
   "metadata": {},
   "outputs": [],
   "source": [
    "from sklearn.linear_model import LinearRegression"
   ]
  },
  {
   "cell_type": "code",
   "execution_count": 21,
   "metadata": {},
   "outputs": [],
   "source": [
    "lr = LinearRegression()"
   ]
  },
  {
   "cell_type": "code",
   "execution_count": 22,
   "metadata": {},
   "outputs": [
    {
     "data": {
      "text/plain": [
       "LinearRegression()"
      ]
     },
     "execution_count": 22,
     "metadata": {},
     "output_type": "execute_result"
    }
   ],
   "source": [
    "lr.fit(X_train, y_train)"
   ]
  },
  {
   "cell_type": "code",
   "execution_count": 23,
   "metadata": {},
   "outputs": [],
   "source": [
    "y_pred = lr.predict(X_test)"
   ]
  },
  {
   "cell_type": "code",
   "execution_count": 24,
   "metadata": {},
   "outputs": [],
   "source": [
    "check_test = pd.DataFrame({'y_test': y_test['price'],\n",
    "                           'y_pred': y_pred.flatten()},\n",
    "                          columns=['y_test', 'y_pred'])"
   ]
  },
  {
   "cell_type": "code",
   "execution_count": 25,
   "metadata": {},
   "outputs": [
    {
     "data": {
      "text/html": [
       "<div>\n",
       "<style scoped>\n",
       "    .dataframe tbody tr th:only-of-type {\n",
       "        vertical-align: middle;\n",
       "    }\n",
       "\n",
       "    .dataframe tbody tr th {\n",
       "        vertical-align: top;\n",
       "    }\n",
       "\n",
       "    .dataframe thead th {\n",
       "        text-align: right;\n",
       "    }\n",
       "</style>\n",
       "<table border=\"1\" class=\"dataframe\">\n",
       "  <thead>\n",
       "    <tr style=\"text-align: right;\">\n",
       "      <th></th>\n",
       "      <th>y_test</th>\n",
       "      <th>y_pred</th>\n",
       "    </tr>\n",
       "  </thead>\n",
       "  <tbody>\n",
       "    <tr>\n",
       "      <th>140</th>\n",
       "      <td>14.0</td>\n",
       "      <td>14.078599</td>\n",
       "    </tr>\n",
       "    <tr>\n",
       "      <th>93</th>\n",
       "      <td>25.0</td>\n",
       "      <td>29.350436</td>\n",
       "    </tr>\n",
       "    <tr>\n",
       "      <th>245</th>\n",
       "      <td>18.5</td>\n",
       "      <td>12.917294</td>\n",
       "    </tr>\n",
       "    <tr>\n",
       "      <th>477</th>\n",
       "      <td>12.0</td>\n",
       "      <td>10.738287</td>\n",
       "    </tr>\n",
       "    <tr>\n",
       "      <th>11</th>\n",
       "      <td>18.9</td>\n",
       "      <td>21.312405</td>\n",
       "    </tr>\n",
       "    <tr>\n",
       "      <th>31</th>\n",
       "      <td>14.5</td>\n",
       "      <td>17.809466</td>\n",
       "    </tr>\n",
       "    <tr>\n",
       "      <th>225</th>\n",
       "      <td>50.0</td>\n",
       "      <td>39.983425</td>\n",
       "    </tr>\n",
       "    <tr>\n",
       "      <th>271</th>\n",
       "      <td>25.2</td>\n",
       "      <td>27.443191</td>\n",
       "    </tr>\n",
       "    <tr>\n",
       "      <th>418</th>\n",
       "      <td>8.8</td>\n",
       "      <td>3.379371</td>\n",
       "    </tr>\n",
       "    <tr>\n",
       "      <th>409</th>\n",
       "      <td>27.5</td>\n",
       "      <td>19.010461</td>\n",
       "    </tr>\n",
       "  </tbody>\n",
       "</table>\n",
       "</div>"
      ],
      "text/plain": [
       "     y_test     y_pred\n",
       "140    14.0  14.078599\n",
       "93     25.0  29.350436\n",
       "245    18.5  12.917294\n",
       "477    12.0  10.738287\n",
       "11     18.9  21.312405\n",
       "31     14.5  17.809466\n",
       "225    50.0  39.983425\n",
       "271    25.2  27.443191\n",
       "418     8.8   3.379371\n",
       "409    27.5  19.010461"
      ]
     },
     "execution_count": 25,
     "metadata": {},
     "output_type": "execute_result"
    }
   ],
   "source": [
    "check_test.sample(10)"
   ]
  },
  {
   "cell_type": "markdown",
   "metadata": {},
   "source": [
    "#### Вычисление метрики $R^2$"
   ]
  },
  {
   "cell_type": "code",
   "execution_count": 26,
   "metadata": {},
   "outputs": [],
   "source": [
    "from sklearn.metrics import r2_score"
   ]
  },
  {
   "cell_type": "code",
   "execution_count": 27,
   "metadata": {},
   "outputs": [
    {
     "data": {
      "text/plain": [
       "0.7112260057484943"
      ]
     },
     "execution_count": 27,
     "metadata": {},
     "output_type": "execute_result"
    }
   ],
   "source": [
    "r2_score(y_test, y_pred)"
   ]
  },
  {
   "cell_type": "markdown",
   "metadata": {},
   "source": [
    "#### Задание 2\n",
    "\n",
    "Создайте модель под названием model с помощью RandomForestRegressor из модуля sklearn.ensemble.\n",
    "\n",
    "Сделайте агрумент n_estimators равным 1000,\n",
    "max_depth должен быть равен 12 и random_state сделайте равным 42.\n",
    "\n",
    "Обучите модель на тренировочных данных аналогично тому, как вы обучали модель LinearRegression,\n",
    "но при этом в метод fit вместо датафрейма y_train поставьте y_train.values[:, 0],\n",
    "чтобы получить из датафрейма одномерный массив Numpy,\n",
    "так как для класса RandomForestRegressor в данном методе для аргумента y предпочтительно применение массивов вместо датафрейма.\n",
    "\n",
    "Сделайте предсказание на тестовых данных и посчитайте $R^2$. Сравните с результатом из предыдущего задания.\n",
    "\n",
    "Напишите в комментариях к коду, какая модель в данном случае работает лучше."
   ]
  },
  {
   "cell_type": "code",
   "execution_count": 28,
   "metadata": {},
   "outputs": [],
   "source": [
    "from sklearn.ensemble import RandomForestRegressor"
   ]
  },
  {
   "cell_type": "code",
   "execution_count": 29,
   "metadata": {},
   "outputs": [],
   "source": [
    "clf = RandomForestRegressor(n_estimators=1000, max_depth=12, random_state=42)"
   ]
  },
  {
   "cell_type": "code",
   "execution_count": 31,
   "metadata": {},
   "outputs": [
    {
     "data": {
      "text/plain": [
       "RandomForestRegressor(max_depth=12, n_estimators=1000, random_state=42)"
      ]
     },
     "execution_count": 31,
     "metadata": {},
     "output_type": "execute_result"
    }
   ],
   "source": [
    "clf.fit(X_train, y_train.values[:, 0])"
   ]
  },
  {
   "cell_type": "code",
   "execution_count": 33,
   "metadata": {},
   "outputs": [
    {
     "data": {
      "text/html": [
       "<div>\n",
       "<style scoped>\n",
       "    .dataframe tbody tr th:only-of-type {\n",
       "        vertical-align: middle;\n",
       "    }\n",
       "\n",
       "    .dataframe tbody tr th {\n",
       "        vertical-align: top;\n",
       "    }\n",
       "\n",
       "    .dataframe thead th {\n",
       "        text-align: right;\n",
       "    }\n",
       "</style>\n",
       "<table border=\"1\" class=\"dataframe\">\n",
       "  <thead>\n",
       "    <tr style=\"text-align: right;\">\n",
       "      <th></th>\n",
       "      <th>Y_test</th>\n",
       "      <th>Y_pred_clf</th>\n",
       "    </tr>\n",
       "  </thead>\n",
       "  <tbody>\n",
       "    <tr>\n",
       "      <th>173</th>\n",
       "      <td>23.6</td>\n",
       "      <td>22.806412</td>\n",
       "    </tr>\n",
       "    <tr>\n",
       "      <th>274</th>\n",
       "      <td>32.4</td>\n",
       "      <td>31.131464</td>\n",
       "    </tr>\n",
       "    <tr>\n",
       "      <th>491</th>\n",
       "      <td>13.6</td>\n",
       "      <td>16.339125</td>\n",
       "    </tr>\n",
       "    <tr>\n",
       "      <th>72</th>\n",
       "      <td>22.8</td>\n",
       "      <td>23.810726</td>\n",
       "    </tr>\n",
       "    <tr>\n",
       "      <th>452</th>\n",
       "      <td>16.1</td>\n",
       "      <td>17.139521</td>\n",
       "    </tr>\n",
       "  </tbody>\n",
       "</table>\n",
       "</div>"
      ],
      "text/plain": [
       "     Y_test  Y_pred_clf\n",
       "173    23.6   22.806412\n",
       "274    32.4   31.131464\n",
       "491    13.6   16.339125\n",
       "72     22.8   23.810726\n",
       "452    16.1   17.139521"
      ]
     },
     "execution_count": 33,
     "metadata": {},
     "output_type": "execute_result"
    }
   ],
   "source": [
    "y_pred_clf = clf.predict(X_test)\n",
    "check_test_clf = pd.DataFrame({\n",
    "    \"Y_test\": y_test[\"price\"], \n",
    "    \"Y_pred_clf\": y_pred_clf.flatten()})\n",
    "\n",
    "check_test_clf.head()"
   ]
  },
  {
   "cell_type": "code",
   "execution_count": 35,
   "metadata": {},
   "outputs": [
    {
     "data": {
      "text/plain": [
       "0.87472606157312"
      ]
     },
     "execution_count": 35,
     "metadata": {},
     "output_type": "execute_result"
    }
   ],
   "source": [
    "r2_score(y_test, y_pred_clf)"
   ]
  },
  {
   "cell_type": "markdown",
   "metadata": {},
   "source": [
    "Алгоритм \"Случайный лес\" показывает более точные результаты, чем \"линейная регрессия\"."
   ]
  },
  {
   "cell_type": "markdown",
   "metadata": {},
   "source": [
    "#### * Задание 3\n",
    "Вызовите документацию для класса , найдите информацию об атрибуте feature_importances_.\n",
    "\n",
    "С помощью этого атрибута найдите сумму всех показателей важности, установите, какие два признака показывают наибольшую важность."
   ]
  },
  {
   "cell_type": "code",
   "execution_count": 36,
   "metadata": {},
   "outputs": [
    {
     "name": "stdout",
     "output_type": "stream",
     "text": [
      "[0.03167574 0.00154252 0.00713813 0.00123624 0.01426897 0.40268179\n",
      " 0.01429864 0.06397257 0.00528122 0.01152493 0.01808108 0.01245085\n",
      " 0.41584732]\n"
     ]
    }
   ],
   "source": [
    "print(clf.feature_importances_)"
   ]
  },
  {
   "cell_type": "code",
   "execution_count": 37,
   "metadata": {},
   "outputs": [
    {
     "data": {
      "text/html": [
       "<div>\n",
       "<style scoped>\n",
       "    .dataframe tbody tr th:only-of-type {\n",
       "        vertical-align: middle;\n",
       "    }\n",
       "\n",
       "    .dataframe tbody tr th {\n",
       "        vertical-align: top;\n",
       "    }\n",
       "\n",
       "    .dataframe thead th {\n",
       "        text-align: right;\n",
       "    }\n",
       "</style>\n",
       "<table border=\"1\" class=\"dataframe\">\n",
       "  <thead>\n",
       "    <tr style=\"text-align: right;\">\n",
       "      <th></th>\n",
       "      <th>feature_importance</th>\n",
       "      <th>name</th>\n",
       "    </tr>\n",
       "  </thead>\n",
       "  <tbody>\n",
       "    <tr>\n",
       "      <th>0</th>\n",
       "      <td>0.031676</td>\n",
       "      <td>CRIM</td>\n",
       "    </tr>\n",
       "    <tr>\n",
       "      <th>1</th>\n",
       "      <td>0.001543</td>\n",
       "      <td>ZN</td>\n",
       "    </tr>\n",
       "    <tr>\n",
       "      <th>2</th>\n",
       "      <td>0.007138</td>\n",
       "      <td>INDUS</td>\n",
       "    </tr>\n",
       "    <tr>\n",
       "      <th>3</th>\n",
       "      <td>0.001236</td>\n",
       "      <td>CHAS</td>\n",
       "    </tr>\n",
       "    <tr>\n",
       "      <th>4</th>\n",
       "      <td>0.014269</td>\n",
       "      <td>NOX</td>\n",
       "    </tr>\n",
       "    <tr>\n",
       "      <th>5</th>\n",
       "      <td>0.402682</td>\n",
       "      <td>RM</td>\n",
       "    </tr>\n",
       "    <tr>\n",
       "      <th>6</th>\n",
       "      <td>0.014299</td>\n",
       "      <td>AGE</td>\n",
       "    </tr>\n",
       "    <tr>\n",
       "      <th>7</th>\n",
       "      <td>0.063973</td>\n",
       "      <td>DIS</td>\n",
       "    </tr>\n",
       "    <tr>\n",
       "      <th>8</th>\n",
       "      <td>0.005281</td>\n",
       "      <td>RAD</td>\n",
       "    </tr>\n",
       "    <tr>\n",
       "      <th>9</th>\n",
       "      <td>0.011525</td>\n",
       "      <td>TAX</td>\n",
       "    </tr>\n",
       "    <tr>\n",
       "      <th>10</th>\n",
       "      <td>0.018081</td>\n",
       "      <td>PTRATIO</td>\n",
       "    </tr>\n",
       "    <tr>\n",
       "      <th>11</th>\n",
       "      <td>0.012451</td>\n",
       "      <td>B</td>\n",
       "    </tr>\n",
       "    <tr>\n",
       "      <th>12</th>\n",
       "      <td>0.415847</td>\n",
       "      <td>LSTAT</td>\n",
       "    </tr>\n",
       "  </tbody>\n",
       "</table>\n",
       "</div>"
      ],
      "text/plain": [
       "    feature_importance     name\n",
       "0             0.031676     CRIM\n",
       "1             0.001543       ZN\n",
       "2             0.007138    INDUS\n",
       "3             0.001236     CHAS\n",
       "4             0.014269      NOX\n",
       "5             0.402682       RM\n",
       "6             0.014299      AGE\n",
       "7             0.063973      DIS\n",
       "8             0.005281      RAD\n",
       "9             0.011525      TAX\n",
       "10            0.018081  PTRATIO\n",
       "11            0.012451        B\n",
       "12            0.415847    LSTAT"
      ]
     },
     "execution_count": 37,
     "metadata": {},
     "output_type": "execute_result"
    }
   ],
   "source": [
    "feature_importance = pd.DataFrame({'name':X.columns, \n",
    "                                   'feature_importance':clf.feature_importances_}, \n",
    "                                  columns=['feature_importance', 'name'])\n",
    "feature_importance"
   ]
  },
  {
   "cell_type": "code",
   "execution_count": 38,
   "metadata": {},
   "outputs": [
    {
     "data": {
      "text/html": [
       "<div>\n",
       "<style scoped>\n",
       "    .dataframe tbody tr th:only-of-type {\n",
       "        vertical-align: middle;\n",
       "    }\n",
       "\n",
       "    .dataframe tbody tr th {\n",
       "        vertical-align: top;\n",
       "    }\n",
       "\n",
       "    .dataframe thead th {\n",
       "        text-align: right;\n",
       "    }\n",
       "</style>\n",
       "<table border=\"1\" class=\"dataframe\">\n",
       "  <thead>\n",
       "    <tr style=\"text-align: right;\">\n",
       "      <th></th>\n",
       "      <th>feature_importance</th>\n",
       "      <th>name</th>\n",
       "    </tr>\n",
       "  </thead>\n",
       "  <tbody>\n",
       "    <tr>\n",
       "      <th>12</th>\n",
       "      <td>0.415847</td>\n",
       "      <td>LSTAT</td>\n",
       "    </tr>\n",
       "    <tr>\n",
       "      <th>5</th>\n",
       "      <td>0.402682</td>\n",
       "      <td>RM</td>\n",
       "    </tr>\n",
       "  </tbody>\n",
       "</table>\n",
       "</div>"
      ],
      "text/plain": [
       "    feature_importance   name\n",
       "12            0.415847  LSTAT\n",
       "5             0.402682     RM"
      ]
     },
     "execution_count": 38,
     "metadata": {},
     "output_type": "execute_result"
    }
   ],
   "source": [
    "feature_importance.nlargest(2, 'feature_importance')"
   ]
  },
  {
   "cell_type": "markdown",
   "metadata": {},
   "source": [
    "#### * Задание 4\n",
    "В этом задании мы будем работать с датасетом, с которым мы уже знакомы по домашнему заданию по библиотеке Matplotlib, это датасет Credit Card Fraud Detection.\n",
    "\n",
    "Для этого датасета мы будем решать задачу классификации - будем определять, какие из транзакциции по кредитной карте являются мошенническими.\n",
    "\n",
    "Данный датасет сильно несбалансирован (так как случаи мошенничества относительно редки), так что применение метрики accuracy не принесет пользы и не поможет выбрать лучшую модель.\n",
    "\n",
    "Мы будем вычислять AUC, то есть площадь под кривой ROC.\n",
    "\n",
    "Импортируйте из соответствующих модулей RandomForestClassifier, GridSearchCV и train_test_split.\n",
    "\n",
    "Загрузите датасет creditcard.csv и создайте датафрейм df.\n",
    "\n",
    "С помощью метода value_counts с аргументом normalize=True убедитесь в том, что выборка несбалансирована.\n",
    "\n",
    "Используя метод info, проверьте, все ли столбцы содержат числовые данные и нет ли в них пропусков.\n",
    "\n",
    "Примените следующую настройку, чтобы можно было просматривать все столбцы датафрейма:\n",
    "\n",
    "pd.options.display.max_columns = 100.\n",
    "\n",
    "Просмотрите первые 10 строк датафрейма df.\n",
    "\n",
    "Создайте датафрейм X из датафрейма df, исключив столбец Class.\n",
    "\n",
    "Создайте объект Series под названием y из столбца Class.\n",
    "\n",
    "Разбейте X и y на тренировочный и тестовый наборы данных при помощи функции train_test_split, используя аргументы: test_size=0.3, random_state=100, stratify=y.\n",
    "\n",
    "У вас должны получиться объекты X_train, X_test, y_train и y_test.\n",
    "\n",
    "Просмотрите информацию о их форме.\n",
    "\n",
    "Для поиска по сетке параметров задайте такие параметры:\n",
    "\n",
    "parameters = [{'n_estimators': [10, 15],\n",
    "\n",
    "'max_features': np.arange(3, 5),\n",
    "\n",
    "'max_depth': np.arange(4, 7)}]\n",
    "\n",
    "Создайте модель GridSearchCV со следующими аргументами:\n",
    "\n",
    "estimator=RandomForestClassifier(random_state=100),\n",
    "\n",
    "param_grid=parameters,\n",
    "\n",
    "scoring='roc_auc',\n",
    "\n",
    "cv=3.\n",
    "\n",
    "Обучите модель на тренировочном наборе данных (может занять несколько минут).\n",
    "\n",
    "Просмотрите параметры лучшей модели с помощью атрибута best_params_.\n",
    "\n",
    "Предскажите вероятности классов с помощью полученнной модели и метода predict_proba.\n",
    "\n",
    "Из полученного результата (массив Numpy) выберите столбец с индексом 1 (вероятность класса 1) и запишите в массив y_pred_proba.\n",
    "\n",
    "Из модуля sklearn.metrics импортируйте метрику roc_auc_score.\n",
    "\n",
    "Вычислите AUC на тестовых данных и сравните с результатом, полученным на тренировочных данных, используя в качестве аргументов массивы y_test и y_pred_proba."
   ]
  },
  {
   "cell_type": "code",
   "execution_count": 39,
   "metadata": {},
   "outputs": [],
   "source": [
    "df = pd.read_csv('creditcard.csv')"
   ]
  },
  {
   "cell_type": "code",
   "execution_count": 40,
   "metadata": {},
   "outputs": [],
   "source": [
    "from sklearn.ensemble import RandomForestClassifier\n",
    "from sklearn.model_selection import GridSearchCV\n",
    "from sklearn.model_selection import train_test_split"
   ]
  },
  {
   "cell_type": "code",
   "execution_count": 41,
   "metadata": {},
   "outputs": [
    {
     "data": {
      "text/plain": [
       "0    0.998273\n",
       "1    0.001727\n",
       "Name: Class, dtype: float64"
      ]
     },
     "execution_count": 41,
     "metadata": {},
     "output_type": "execute_result"
    }
   ],
   "source": [
    "df['Class'].value_counts(normalize=True)"
   ]
  },
  {
   "cell_type": "code",
   "execution_count": 42,
   "metadata": {},
   "outputs": [
    {
     "name": "stdout",
     "output_type": "stream",
     "text": [
      "<class 'pandas.core.frame.DataFrame'>\n",
      "RangeIndex: 284807 entries, 0 to 284806\n",
      "Data columns (total 31 columns):\n",
      " #   Column  Non-Null Count   Dtype  \n",
      "---  ------  --------------   -----  \n",
      " 0   Time    284807 non-null  float64\n",
      " 1   V1      284807 non-null  float64\n",
      " 2   V2      284807 non-null  float64\n",
      " 3   V3      284807 non-null  float64\n",
      " 4   V4      284807 non-null  float64\n",
      " 5   V5      284807 non-null  float64\n",
      " 6   V6      284807 non-null  float64\n",
      " 7   V7      284807 non-null  float64\n",
      " 8   V8      284807 non-null  float64\n",
      " 9   V9      284807 non-null  float64\n",
      " 10  V10     284807 non-null  float64\n",
      " 11  V11     284807 non-null  float64\n",
      " 12  V12     284807 non-null  float64\n",
      " 13  V13     284807 non-null  float64\n",
      " 14  V14     284807 non-null  float64\n",
      " 15  V15     284807 non-null  float64\n",
      " 16  V16     284807 non-null  float64\n",
      " 17  V17     284807 non-null  float64\n",
      " 18  V18     284807 non-null  float64\n",
      " 19  V19     284807 non-null  float64\n",
      " 20  V20     284807 non-null  float64\n",
      " 21  V21     284807 non-null  float64\n",
      " 22  V22     284807 non-null  float64\n",
      " 23  V23     284807 non-null  float64\n",
      " 24  V24     284807 non-null  float64\n",
      " 25  V25     284807 non-null  float64\n",
      " 26  V26     284807 non-null  float64\n",
      " 27  V27     284807 non-null  float64\n",
      " 28  V28     284807 non-null  float64\n",
      " 29  Amount  284807 non-null  float64\n",
      " 30  Class   284807 non-null  int64  \n",
      "dtypes: float64(30), int64(1)\n",
      "memory usage: 67.4 MB\n"
     ]
    }
   ],
   "source": [
    "df.info()"
   ]
  },
  {
   "cell_type": "code",
   "execution_count": 43,
   "metadata": {},
   "outputs": [],
   "source": [
    "pd.options.display.max_columns=100"
   ]
  },
  {
   "cell_type": "code",
   "execution_count": 44,
   "metadata": {},
   "outputs": [
    {
     "data": {
      "text/html": [
       "<div>\n",
       "<style scoped>\n",
       "    .dataframe tbody tr th:only-of-type {\n",
       "        vertical-align: middle;\n",
       "    }\n",
       "\n",
       "    .dataframe tbody tr th {\n",
       "        vertical-align: top;\n",
       "    }\n",
       "\n",
       "    .dataframe thead th {\n",
       "        text-align: right;\n",
       "    }\n",
       "</style>\n",
       "<table border=\"1\" class=\"dataframe\">\n",
       "  <thead>\n",
       "    <tr style=\"text-align: right;\">\n",
       "      <th></th>\n",
       "      <th>Time</th>\n",
       "      <th>V1</th>\n",
       "      <th>V2</th>\n",
       "      <th>V3</th>\n",
       "      <th>V4</th>\n",
       "      <th>V5</th>\n",
       "      <th>V6</th>\n",
       "      <th>V7</th>\n",
       "      <th>V8</th>\n",
       "      <th>V9</th>\n",
       "      <th>V10</th>\n",
       "      <th>V11</th>\n",
       "      <th>V12</th>\n",
       "      <th>V13</th>\n",
       "      <th>V14</th>\n",
       "      <th>V15</th>\n",
       "      <th>V16</th>\n",
       "      <th>V17</th>\n",
       "      <th>V18</th>\n",
       "      <th>V19</th>\n",
       "      <th>V20</th>\n",
       "      <th>V21</th>\n",
       "      <th>V22</th>\n",
       "      <th>V23</th>\n",
       "      <th>V24</th>\n",
       "      <th>V25</th>\n",
       "      <th>V26</th>\n",
       "      <th>V27</th>\n",
       "      <th>V28</th>\n",
       "      <th>Amount</th>\n",
       "      <th>Class</th>\n",
       "    </tr>\n",
       "  </thead>\n",
       "  <tbody>\n",
       "    <tr>\n",
       "      <th>249090</th>\n",
       "      <td>154243.0</td>\n",
       "      <td>1.979522</td>\n",
       "      <td>-0.671424</td>\n",
       "      <td>0.081235</td>\n",
       "      <td>0.506173</td>\n",
       "      <td>-1.273404</td>\n",
       "      <td>-0.480875</td>\n",
       "      <td>-1.050553</td>\n",
       "      <td>0.181290</td>\n",
       "      <td>1.806719</td>\n",
       "      <td>0.046926</td>\n",
       "      <td>-1.428467</td>\n",
       "      <td>-0.937555</td>\n",
       "      <td>-2.302823</td>\n",
       "      <td>0.115066</td>\n",
       "      <td>0.795224</td>\n",
       "      <td>0.680865</td>\n",
       "      <td>-0.444266</td>\n",
       "      <td>0.288465</td>\n",
       "      <td>-0.220464</td>\n",
       "      <td>-0.357879</td>\n",
       "      <td>-0.034678</td>\n",
       "      <td>-0.015841</td>\n",
       "      <td>0.346190</td>\n",
       "      <td>-0.070675</td>\n",
       "      <td>-0.635391</td>\n",
       "      <td>0.367293</td>\n",
       "      <td>-0.017302</td>\n",
       "      <td>-0.043588</td>\n",
       "      <td>2.99</td>\n",
       "      <td>0</td>\n",
       "    </tr>\n",
       "    <tr>\n",
       "      <th>238077</th>\n",
       "      <td>149514.0</td>\n",
       "      <td>-1.129492</td>\n",
       "      <td>1.266886</td>\n",
       "      <td>0.109950</td>\n",
       "      <td>-0.977285</td>\n",
       "      <td>0.663808</td>\n",
       "      <td>-0.680604</td>\n",
       "      <td>0.912067</td>\n",
       "      <td>0.412865</td>\n",
       "      <td>-0.748936</td>\n",
       "      <td>-1.640653</td>\n",
       "      <td>0.498632</td>\n",
       "      <td>-0.327973</td>\n",
       "      <td>-1.342372</td>\n",
       "      <td>-0.115498</td>\n",
       "      <td>-0.098940</td>\n",
       "      <td>0.729821</td>\n",
       "      <td>0.160577</td>\n",
       "      <td>1.356616</td>\n",
       "      <td>-0.403628</td>\n",
       "      <td>-0.182495</td>\n",
       "      <td>0.278101</td>\n",
       "      <td>0.531869</td>\n",
       "      <td>-0.585548</td>\n",
       "      <td>-0.567417</td>\n",
       "      <td>1.100017</td>\n",
       "      <td>-0.014378</td>\n",
       "      <td>-0.132894</td>\n",
       "      <td>-0.016149</td>\n",
       "      <td>40.10</td>\n",
       "      <td>0</td>\n",
       "    </tr>\n",
       "    <tr>\n",
       "      <th>211825</th>\n",
       "      <td>138586.0</td>\n",
       "      <td>-1.488415</td>\n",
       "      <td>-1.573599</td>\n",
       "      <td>2.979207</td>\n",
       "      <td>-0.919283</td>\n",
       "      <td>-0.194540</td>\n",
       "      <td>0.833385</td>\n",
       "      <td>-1.381581</td>\n",
       "      <td>0.551329</td>\n",
       "      <td>0.252518</td>\n",
       "      <td>-0.567174</td>\n",
       "      <td>-2.215147</td>\n",
       "      <td>0.659332</td>\n",
       "      <td>1.584742</td>\n",
       "      <td>-1.853349</td>\n",
       "      <td>-1.982409</td>\n",
       "      <td>-1.651844</td>\n",
       "      <td>0.151527</td>\n",
       "      <td>1.418351</td>\n",
       "      <td>-0.429991</td>\n",
       "      <td>0.070389</td>\n",
       "      <td>-0.177544</td>\n",
       "      <td>0.006413</td>\n",
       "      <td>-0.041887</td>\n",
       "      <td>0.552322</td>\n",
       "      <td>0.480067</td>\n",
       "      <td>0.839947</td>\n",
       "      <td>0.036200</td>\n",
       "      <td>0.100985</td>\n",
       "      <td>75.00</td>\n",
       "      <td>0</td>\n",
       "    </tr>\n",
       "    <tr>\n",
       "      <th>114810</th>\n",
       "      <td>73626.0</td>\n",
       "      <td>-2.345009</td>\n",
       "      <td>0.523187</td>\n",
       "      <td>1.720713</td>\n",
       "      <td>0.045911</td>\n",
       "      <td>-0.333521</td>\n",
       "      <td>1.726977</td>\n",
       "      <td>-1.352383</td>\n",
       "      <td>1.891821</td>\n",
       "      <td>0.077412</td>\n",
       "      <td>-0.714371</td>\n",
       "      <td>1.501965</td>\n",
       "      <td>0.928058</td>\n",
       "      <td>-1.303332</td>\n",
       "      <td>0.619094</td>\n",
       "      <td>0.543519</td>\n",
       "      <td>-0.809448</td>\n",
       "      <td>1.319233</td>\n",
       "      <td>-1.367234</td>\n",
       "      <td>-1.189499</td>\n",
       "      <td>-0.122704</td>\n",
       "      <td>0.145314</td>\n",
       "      <td>0.447342</td>\n",
       "      <td>-0.137767</td>\n",
       "      <td>-0.789079</td>\n",
       "      <td>-0.122123</td>\n",
       "      <td>0.473104</td>\n",
       "      <td>0.275375</td>\n",
       "      <td>-0.073103</td>\n",
       "      <td>6.09</td>\n",
       "      <td>0</td>\n",
       "    </tr>\n",
       "    <tr>\n",
       "      <th>126169</th>\n",
       "      <td>77950.0</td>\n",
       "      <td>1.220077</td>\n",
       "      <td>0.333263</td>\n",
       "      <td>0.755726</td>\n",
       "      <td>0.737704</td>\n",
       "      <td>-0.650483</td>\n",
       "      <td>-1.272999</td>\n",
       "      <td>0.145330</td>\n",
       "      <td>-0.298545</td>\n",
       "      <td>-0.147120</td>\n",
       "      <td>-0.097469</td>\n",
       "      <td>0.435857</td>\n",
       "      <td>1.091166</td>\n",
       "      <td>1.248568</td>\n",
       "      <td>0.067387</td>\n",
       "      <td>0.880480</td>\n",
       "      <td>0.099469</td>\n",
       "      <td>-0.287892</td>\n",
       "      <td>-0.841772</td>\n",
       "      <td>-0.327259</td>\n",
       "      <td>-0.041146</td>\n",
       "      <td>-0.209527</td>\n",
       "      <td>-0.563152</td>\n",
       "      <td>0.188459</td>\n",
       "      <td>0.940849</td>\n",
       "      <td>0.180422</td>\n",
       "      <td>0.057926</td>\n",
       "      <td>-0.021984</td>\n",
       "      <td>0.026937</td>\n",
       "      <td>3.57</td>\n",
       "      <td>0</td>\n",
       "    </tr>\n",
       "    <tr>\n",
       "      <th>257983</th>\n",
       "      <td>158439.0</td>\n",
       "      <td>1.602295</td>\n",
       "      <td>-1.396613</td>\n",
       "      <td>-2.644241</td>\n",
       "      <td>-0.225319</td>\n",
       "      <td>-0.198107</td>\n",
       "      <td>-1.467050</td>\n",
       "      <td>0.888920</td>\n",
       "      <td>-0.630500</td>\n",
       "      <td>-1.407712</td>\n",
       "      <td>1.076163</td>\n",
       "      <td>0.720856</td>\n",
       "      <td>0.332755</td>\n",
       "      <td>-0.377643</td>\n",
       "      <td>1.032189</td>\n",
       "      <td>-1.019879</td>\n",
       "      <td>-2.066231</td>\n",
       "      <td>0.006975</td>\n",
       "      <td>1.166093</td>\n",
       "      <td>-0.510919</td>\n",
       "      <td>-0.020973</td>\n",
       "      <td>0.139161</td>\n",
       "      <td>0.287164</td>\n",
       "      <td>-0.362817</td>\n",
       "      <td>0.158317</td>\n",
       "      <td>0.334637</td>\n",
       "      <td>0.962143</td>\n",
       "      <td>-0.186731</td>\n",
       "      <td>-0.047502</td>\n",
       "      <td>321.55</td>\n",
       "      <td>0</td>\n",
       "    </tr>\n",
       "    <tr>\n",
       "      <th>153575</th>\n",
       "      <td>99499.0</td>\n",
       "      <td>-4.134781</td>\n",
       "      <td>-2.850170</td>\n",
       "      <td>0.464756</td>\n",
       "      <td>-0.660009</td>\n",
       "      <td>0.928801</td>\n",
       "      <td>-0.316480</td>\n",
       "      <td>-1.016989</td>\n",
       "      <td>0.290424</td>\n",
       "      <td>1.085982</td>\n",
       "      <td>0.467460</td>\n",
       "      <td>0.563202</td>\n",
       "      <td>-2.980515</td>\n",
       "      <td>0.954225</td>\n",
       "      <td>1.197286</td>\n",
       "      <td>-1.089441</td>\n",
       "      <td>-0.476324</td>\n",
       "      <td>-0.002252</td>\n",
       "      <td>2.540967</td>\n",
       "      <td>-0.316689</td>\n",
       "      <td>-2.845562</td>\n",
       "      <td>-1.009574</td>\n",
       "      <td>0.391730</td>\n",
       "      <td>2.021692</td>\n",
       "      <td>0.170788</td>\n",
       "      <td>0.360577</td>\n",
       "      <td>0.750796</td>\n",
       "      <td>0.024499</td>\n",
       "      <td>-1.028741</td>\n",
       "      <td>21.90</td>\n",
       "      <td>0</td>\n",
       "    </tr>\n",
       "    <tr>\n",
       "      <th>278062</th>\n",
       "      <td>168019.0</td>\n",
       "      <td>1.876852</td>\n",
       "      <td>-0.588538</td>\n",
       "      <td>-1.142854</td>\n",
       "      <td>0.642405</td>\n",
       "      <td>-0.080020</td>\n",
       "      <td>-0.068640</td>\n",
       "      <td>-0.057744</td>\n",
       "      <td>-0.045902</td>\n",
       "      <td>1.540631</td>\n",
       "      <td>-0.355492</td>\n",
       "      <td>-1.715085</td>\n",
       "      <td>0.488320</td>\n",
       "      <td>-0.611825</td>\n",
       "      <td>-0.185493</td>\n",
       "      <td>-1.416319</td>\n",
       "      <td>-0.875435</td>\n",
       "      <td>0.175285</td>\n",
       "      <td>-0.754106</td>\n",
       "      <td>0.785671</td>\n",
       "      <td>-0.112825</td>\n",
       "      <td>-0.333837</td>\n",
       "      <td>-0.767865</td>\n",
       "      <td>0.174959</td>\n",
       "      <td>0.460642</td>\n",
       "      <td>0.023653</td>\n",
       "      <td>-0.525345</td>\n",
       "      <td>-0.006182</td>\n",
       "      <td>-0.033689</td>\n",
       "      <td>83.37</td>\n",
       "      <td>0</td>\n",
       "    </tr>\n",
       "    <tr>\n",
       "      <th>8908</th>\n",
       "      <td>12223.0</td>\n",
       "      <td>-4.278453</td>\n",
       "      <td>3.232408</td>\n",
       "      <td>-0.012930</td>\n",
       "      <td>-2.160383</td>\n",
       "      <td>-0.338527</td>\n",
       "      <td>-0.789778</td>\n",
       "      <td>0.739323</td>\n",
       "      <td>-0.297975</td>\n",
       "      <td>5.061142</td>\n",
       "      <td>4.518605</td>\n",
       "      <td>0.037783</td>\n",
       "      <td>-3.713661</td>\n",
       "      <td>0.181062</td>\n",
       "      <td>-0.011519</td>\n",
       "      <td>0.353890</td>\n",
       "      <td>0.372108</td>\n",
       "      <td>-0.556509</td>\n",
       "      <td>0.048711</td>\n",
       "      <td>-1.024063</td>\n",
       "      <td>2.019362</td>\n",
       "      <td>-1.000195</td>\n",
       "      <td>-0.923305</td>\n",
       "      <td>-0.149275</td>\n",
       "      <td>-0.579095</td>\n",
       "      <td>0.434011</td>\n",
       "      <td>0.697841</td>\n",
       "      <td>1.074859</td>\n",
       "      <td>0.375250</td>\n",
       "      <td>15.38</td>\n",
       "      <td>0</td>\n",
       "    </tr>\n",
       "    <tr>\n",
       "      <th>206717</th>\n",
       "      <td>136334.0</td>\n",
       "      <td>0.059999</td>\n",
       "      <td>0.780852</td>\n",
       "      <td>-0.001915</td>\n",
       "      <td>-0.732588</td>\n",
       "      <td>0.755695</td>\n",
       "      <td>-0.760653</td>\n",
       "      <td>0.957771</td>\n",
       "      <td>-0.146221</td>\n",
       "      <td>0.043010</td>\n",
       "      <td>-0.400405</td>\n",
       "      <td>-1.587179</td>\n",
       "      <td>-0.218450</td>\n",
       "      <td>-0.113153</td>\n",
       "      <td>0.121885</td>\n",
       "      <td>-0.324055</td>\n",
       "      <td>0.119189</td>\n",
       "      <td>-0.645102</td>\n",
       "      <td>-0.490832</td>\n",
       "      <td>0.178105</td>\n",
       "      <td>-0.016939</td>\n",
       "      <td>-0.304222</td>\n",
       "      <td>-0.721474</td>\n",
       "      <td>-0.000287</td>\n",
       "      <td>-0.668764</td>\n",
       "      <td>-0.402739</td>\n",
       "      <td>0.181924</td>\n",
       "      <td>0.242492</td>\n",
       "      <td>0.090868</td>\n",
       "      <td>4.99</td>\n",
       "      <td>0</td>\n",
       "    </tr>\n",
       "  </tbody>\n",
       "</table>\n",
       "</div>"
      ],
      "text/plain": [
       "            Time        V1        V2        V3        V4        V5        V6  \\\n",
       "249090  154243.0  1.979522 -0.671424  0.081235  0.506173 -1.273404 -0.480875   \n",
       "238077  149514.0 -1.129492  1.266886  0.109950 -0.977285  0.663808 -0.680604   \n",
       "211825  138586.0 -1.488415 -1.573599  2.979207 -0.919283 -0.194540  0.833385   \n",
       "114810   73626.0 -2.345009  0.523187  1.720713  0.045911 -0.333521  1.726977   \n",
       "126169   77950.0  1.220077  0.333263  0.755726  0.737704 -0.650483 -1.272999   \n",
       "257983  158439.0  1.602295 -1.396613 -2.644241 -0.225319 -0.198107 -1.467050   \n",
       "153575   99499.0 -4.134781 -2.850170  0.464756 -0.660009  0.928801 -0.316480   \n",
       "278062  168019.0  1.876852 -0.588538 -1.142854  0.642405 -0.080020 -0.068640   \n",
       "8908     12223.0 -4.278453  3.232408 -0.012930 -2.160383 -0.338527 -0.789778   \n",
       "206717  136334.0  0.059999  0.780852 -0.001915 -0.732588  0.755695 -0.760653   \n",
       "\n",
       "              V7        V8        V9       V10       V11       V12       V13  \\\n",
       "249090 -1.050553  0.181290  1.806719  0.046926 -1.428467 -0.937555 -2.302823   \n",
       "238077  0.912067  0.412865 -0.748936 -1.640653  0.498632 -0.327973 -1.342372   \n",
       "211825 -1.381581  0.551329  0.252518 -0.567174 -2.215147  0.659332  1.584742   \n",
       "114810 -1.352383  1.891821  0.077412 -0.714371  1.501965  0.928058 -1.303332   \n",
       "126169  0.145330 -0.298545 -0.147120 -0.097469  0.435857  1.091166  1.248568   \n",
       "257983  0.888920 -0.630500 -1.407712  1.076163  0.720856  0.332755 -0.377643   \n",
       "153575 -1.016989  0.290424  1.085982  0.467460  0.563202 -2.980515  0.954225   \n",
       "278062 -0.057744 -0.045902  1.540631 -0.355492 -1.715085  0.488320 -0.611825   \n",
       "8908    0.739323 -0.297975  5.061142  4.518605  0.037783 -3.713661  0.181062   \n",
       "206717  0.957771 -0.146221  0.043010 -0.400405 -1.587179 -0.218450 -0.113153   \n",
       "\n",
       "             V14       V15       V16       V17       V18       V19       V20  \\\n",
       "249090  0.115066  0.795224  0.680865 -0.444266  0.288465 -0.220464 -0.357879   \n",
       "238077 -0.115498 -0.098940  0.729821  0.160577  1.356616 -0.403628 -0.182495   \n",
       "211825 -1.853349 -1.982409 -1.651844  0.151527  1.418351 -0.429991  0.070389   \n",
       "114810  0.619094  0.543519 -0.809448  1.319233 -1.367234 -1.189499 -0.122704   \n",
       "126169  0.067387  0.880480  0.099469 -0.287892 -0.841772 -0.327259 -0.041146   \n",
       "257983  1.032189 -1.019879 -2.066231  0.006975  1.166093 -0.510919 -0.020973   \n",
       "153575  1.197286 -1.089441 -0.476324 -0.002252  2.540967 -0.316689 -2.845562   \n",
       "278062 -0.185493 -1.416319 -0.875435  0.175285 -0.754106  0.785671 -0.112825   \n",
       "8908   -0.011519  0.353890  0.372108 -0.556509  0.048711 -1.024063  2.019362   \n",
       "206717  0.121885 -0.324055  0.119189 -0.645102 -0.490832  0.178105 -0.016939   \n",
       "\n",
       "             V21       V22       V23       V24       V25       V26       V27  \\\n",
       "249090 -0.034678 -0.015841  0.346190 -0.070675 -0.635391  0.367293 -0.017302   \n",
       "238077  0.278101  0.531869 -0.585548 -0.567417  1.100017 -0.014378 -0.132894   \n",
       "211825 -0.177544  0.006413 -0.041887  0.552322  0.480067  0.839947  0.036200   \n",
       "114810  0.145314  0.447342 -0.137767 -0.789079 -0.122123  0.473104  0.275375   \n",
       "126169 -0.209527 -0.563152  0.188459  0.940849  0.180422  0.057926 -0.021984   \n",
       "257983  0.139161  0.287164 -0.362817  0.158317  0.334637  0.962143 -0.186731   \n",
       "153575 -1.009574  0.391730  2.021692  0.170788  0.360577  0.750796  0.024499   \n",
       "278062 -0.333837 -0.767865  0.174959  0.460642  0.023653 -0.525345 -0.006182   \n",
       "8908   -1.000195 -0.923305 -0.149275 -0.579095  0.434011  0.697841  1.074859   \n",
       "206717 -0.304222 -0.721474 -0.000287 -0.668764 -0.402739  0.181924  0.242492   \n",
       "\n",
       "             V28  Amount  Class  \n",
       "249090 -0.043588    2.99      0  \n",
       "238077 -0.016149   40.10      0  \n",
       "211825  0.100985   75.00      0  \n",
       "114810 -0.073103    6.09      0  \n",
       "126169  0.026937    3.57      0  \n",
       "257983 -0.047502  321.55      0  \n",
       "153575 -1.028741   21.90      0  \n",
       "278062 -0.033689   83.37      0  \n",
       "8908    0.375250   15.38      0  \n",
       "206717  0.090868    4.99      0  "
      ]
     },
     "execution_count": 44,
     "metadata": {},
     "output_type": "execute_result"
    }
   ],
   "source": [
    "df.sample(10)"
   ]
  },
  {
   "cell_type": "code",
   "execution_count": 45,
   "metadata": {},
   "outputs": [],
   "source": [
    "X = df.drop('Class', axis=1)"
   ]
  },
  {
   "cell_type": "code",
   "execution_count": 46,
   "metadata": {},
   "outputs": [],
   "source": [
    "y = df['Class']"
   ]
  },
  {
   "cell_type": "code",
   "execution_count": 47,
   "metadata": {},
   "outputs": [],
   "source": [
    "X_train, X_test, y_train, y_test = train_test_split(X, y, test_size=0.3, random_state=100, stratify=y)"
   ]
  },
  {
   "cell_type": "code",
   "execution_count": 48,
   "metadata": {},
   "outputs": [
    {
     "name": "stdout",
     "output_type": "stream",
     "text": [
      "X_train  (199364, 30)\n",
      "X_test  (85443, 30)\n",
      "y_train  (199364,)\n",
      "y_test  (85443,)\n"
     ]
    }
   ],
   "source": [
    "print('X_train ', X_train.shape)\n",
    "print('X_test ', X_test.shape)\n",
    "print('y_train ', y_train.shape)\n",
    "print('y_test ', y_test.shape)"
   ]
  },
  {
   "cell_type": "code",
   "execution_count": 49,
   "metadata": {},
   "outputs": [],
   "source": [
    "parameters = [{\n",
    "    'n_estimators': [10, 15], \n",
    "    'max_features': np.arange(3, 5), \n",
    "    'max_depth': np.arange(4, 7)\n",
    "}] "
   ]
  },
  {
   "cell_type": "code",
   "execution_count": 50,
   "metadata": {},
   "outputs": [],
   "source": [
    "clf = GridSearchCV(\n",
    "    estimator=RandomForestClassifier(random_state=100),\n",
    "    param_grid=parameters,\n",
    "    scoring='roc_auc',\n",
    "    cv=3,\n",
    ")"
   ]
  },
  {
   "cell_type": "code",
   "execution_count": 51,
   "metadata": {},
   "outputs": [
    {
     "data": {
      "text/plain": [
       "GridSearchCV(cv=3, estimator=RandomForestClassifier(random_state=100),\n",
       "             param_grid=[{'max_depth': array([4, 5, 6]),\n",
       "                          'max_features': array([3, 4]),\n",
       "                          'n_estimators': [10, 15]}],\n",
       "             scoring='roc_auc')"
      ]
     },
     "execution_count": 51,
     "metadata": {},
     "output_type": "execute_result"
    }
   ],
   "source": [
    "clf.fit(X_train, y_train)"
   ]
  },
  {
   "cell_type": "code",
   "execution_count": 52,
   "metadata": {},
   "outputs": [
    {
     "data": {
      "text/plain": [
       "{'max_depth': 6, 'max_features': 3, 'n_estimators': 15}"
      ]
     },
     "execution_count": 52,
     "metadata": {},
     "output_type": "execute_result"
    }
   ],
   "source": [
    "clf.best_params_"
   ]
  },
  {
   "cell_type": "code",
   "execution_count": 53,
   "metadata": {},
   "outputs": [
    {
     "data": {
      "text/plain": [
       "RandomForestClassifier(max_depth=6, max_features=3, n_estimators=15)"
      ]
     },
     "execution_count": 53,
     "metadata": {},
     "output_type": "execute_result"
    }
   ],
   "source": [
    "clf = RandomForestClassifier(max_depth=6, max_features=3, n_estimators=15)\n",
    "\n",
    "clf.fit(X_train, y_train)"
   ]
  },
  {
   "cell_type": "code",
   "execution_count": 54,
   "metadata": {},
   "outputs": [],
   "source": [
    "y_pred = clf.predict_proba(X_test)"
   ]
  },
  {
   "cell_type": "code",
   "execution_count": 55,
   "metadata": {},
   "outputs": [],
   "source": [
    "y_pred_proba = y_pred[:, 1]"
   ]
  },
  {
   "cell_type": "code",
   "execution_count": 56,
   "metadata": {},
   "outputs": [],
   "source": [
    "from sklearn.metrics import roc_auc_score"
   ]
  },
  {
   "cell_type": "code",
   "execution_count": 57,
   "metadata": {},
   "outputs": [
    {
     "data": {
      "text/plain": [
       "0.9546194606001746"
      ]
     },
     "execution_count": 57,
     "metadata": {},
     "output_type": "execute_result"
    }
   ],
   "source": [
    "roc_auc_score(y_test, y_pred_proba)"
   ]
  }
 ],
 "metadata": {
  "kernelspec": {
   "display_name": "Python 3",
   "language": "python",
   "name": "python3"
  },
  "language_info": {
   "codemirror_mode": {
    "name": "ipython",
    "version": 3
   },
   "file_extension": ".py",
   "mimetype": "text/x-python",
   "name": "python",
   "nbconvert_exporter": "python",
   "pygments_lexer": "ipython3",
   "version": "3.8.5"
  }
 },
 "nbformat": 4,
 "nbformat_minor": 4
}
